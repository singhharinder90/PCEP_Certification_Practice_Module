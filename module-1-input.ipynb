{
 "cells": [
  {
   "cell_type": "code",
   "execution_count": null,
   "id": "b7035b20",
   "metadata": {},
   "outputs": [],
   "source": [
    "#login=input('Enter your login: ')\n",
    "#language=input('Enter your native language: ')\n",
    "#print('Your login is',login,' and you speak ',language)\n",
    "\n",
    "login = input('Enter your login: ')\n",
    "language = input('Enter your native language: ')\n",
    " \n",
    "print('Your login is', login, 'and you speak', language)\n",
    "\n"
   ]
  },
  {
   "cell_type": "code",
   "execution_count": null,
   "id": "300a3b4e",
   "metadata": {},
   "outputs": [],
   "source": [
    "a=2\n",
    "if a>0:\n",
    "    a+=1\n",
    "    else:\n",
    "        a-=1\n",
    "print(a)"
   ]
  },
  {
   "cell_type": "code",
   "execution_count": null,
   "id": "c3078e92",
   "metadata": {},
   "outputs": [],
   "source": [
    "for i in range(1,3) :\n",
    "    print(\"*\", end='')\n",
    "else :\n",
    "    print(\"*\")\n",
    "    print(\"*\")"
   ]
  },
  {
   "cell_type": "code",
   "execution_count": null,
   "id": "af75fce7",
   "metadata": {},
   "outputs": [],
   "source": [
    "a=[0,3]\n",
    "print(a)\n",
    "b=a[:]\n",
    "print(b)\n",
    "a[0]=1\n",
    "print(a)\n",
    "print(b)"
   ]
  },
  {
   "cell_type": "code",
   "execution_count": null,
   "id": "cad0267e",
   "metadata": {},
   "outputs": [],
   "source": [
    "a=[I for I in range(1,10)]\n",
    "print(a)\n",
    "b=a[-1:1:-1]\n",
    "print(b)"
   ]
  },
  {
   "cell_type": "code",
   "execution_count": null,
   "id": "a91027ff",
   "metadata": {},
   "outputs": [],
   "source": [
    "import pydoc\n",
    "if __name__ == '__main__':\n",
    "    pydoc.cli()\n"
   ]
  },
  {
   "cell_type": "code",
   "execution_count": null,
   "id": "1ba57802",
   "metadata": {},
   "outputs": [],
   "source": []
  }
 ],
 "metadata": {
  "kernelspec": {
   "display_name": "Python 3 (ipykernel)",
   "language": "python",
   "name": "python3"
  },
  "language_info": {
   "codemirror_mode": {
    "name": "ipython",
    "version": 3
   },
   "file_extension": ".py",
   "mimetype": "text/x-python",
   "name": "python",
   "nbconvert_exporter": "python",
   "pygments_lexer": "ipython3",
   "version": "3.9.13"
  }
 },
 "nbformat": 4,
 "nbformat_minor": 5
}
