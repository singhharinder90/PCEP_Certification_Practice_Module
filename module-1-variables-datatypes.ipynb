{
 "cells": [
  {
   "cell_type": "code",
   "execution_count": 10,
   "id": "285fc8d9",
   "metadata": {},
   "outputs": [
    {
     "name": "stdout",
     "output_type": "stream",
     "text": [
      "0.0005\n"
     ]
    }
   ],
   "source": [
    "#print the comments\n",
    "bools=False\n",
    "\n",
    "print(5E-4)\n"
   ]
  },
  {
   "cell_type": "code",
   "execution_count": 19,
   "id": "fd54a19d",
   "metadata": {},
   "outputs": [
    {
     "name": "stdout",
     "output_type": "stream",
     "text": [
      "Your income is 250000 and you would pay 125000000.0 income tax in Lowtaxland or 1075000000.0 income tax in Ripoffland. You would save 950000000.0 by paying taxes in Lowtaxland!\n"
     ]
    }
   ],
   "source": [
    "income = 250_000\n",
    "lowtaxland_rate=5e2\n",
    "ripoffland_rate=43e2\n",
    "print('Your income is', income, 'and you would pay', income * lowtaxland_rate, 'income tax in Lowtaxland or', income * ripoffland_rate, 'income tax in Ripoffland. You would save', income * ripoffland_rate - income * lowtaxland_rate, 'by paying taxes in Lowtaxland!')"
   ]
  },
  {
   "cell_type": "code",
   "execution_count": null,
   "id": "b1043cc6",
   "metadata": {},
   "outputs": [],
   "source": []
  }
 ],
 "metadata": {
  "kernelspec": {
   "display_name": "Python 3 (ipykernel)",
   "language": "python",
   "name": "python3"
  },
  "language_info": {
   "codemirror_mode": {
    "name": "ipython",
    "version": 3
   },
   "file_extension": ".py",
   "mimetype": "text/x-python",
   "name": "python",
   "nbconvert_exporter": "python",
   "pygments_lexer": "ipython3",
   "version": "3.9.13"
  }
 },
 "nbformat": 4,
 "nbformat_minor": 5
}
