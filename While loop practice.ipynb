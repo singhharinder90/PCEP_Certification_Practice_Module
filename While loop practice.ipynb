{
 "cells": [
  {
   "cell_type": "markdown",
   "id": "6d7115cb",
   "metadata": {},
   "source": [
    "# While loop practice"
   ]
  },
  {
   "cell_type": "code",
   "execution_count": null,
   "id": "fcff972c",
   "metadata": {},
   "outputs": [],
   "source": [
    "# find first X even numbers \n",
    "x=int(input('Enter the number of even you want: '))\n",
    "i=0\n",
    "n=0\n",
    "while i<(x+1) :\n",
    "#indentation is critically important in python\n",
    "    if n%2==0 :\n",
    "        print(n)\n",
    "        i=i+1\n",
    "    n=n+1\n"
   ]
  },
  {
   "cell_type": "code",
   "execution_count": null,
   "id": "f3f21c1c",
   "metadata": {},
   "outputs": [],
   "source": [
    "# find first X odd numbers \n",
    "x=int(input('Enter the number of odds you want: '))\n",
    "i=0\n",
    "n=0\n",
    "while i<(x+1) :\n",
    "#indentation is critically important in python\n",
    "    if n%2!=0 :\n",
    "        print(n)\n",
    "        i=i+1\n",
    "    n=n+1\n"
   ]
  },
  {
   "cell_type": "code",
   "execution_count": null,
   "id": "a329d267",
   "metadata": {},
   "outputs": [],
   "source": [
    "# in while loop when just a number is mentioned loop will iterate until the number gets 0 value\n",
    "i=3\n",
    "list1=[]\n",
    "while i :\n",
    "    print(i)\n",
    "    list1.append(i)\n",
    "    i-=1\n",
    "print(list1)    "
   ]
  },
  {
   "cell_type": "code",
   "execution_count": null,
   "id": "69df234b",
   "metadata": {},
   "outputs": [],
   "source": [
    "# continue statement is used to break the flow of the loop for the current statement\n",
    "# break statement breaks the sequence in the loop and pass the execution flow to the next statement in the loop\n",
    "i=5\n",
    "list1=[]\n",
    "while i :\n",
    "    i-=1\n",
    "    if i==3 : # when I was decrement to 3 the rest of the while loop code is skipped, you will not see 3 in the output\n",
    "        continue\n",
    "    elif i==1 : # when I was decerment to 1 the while loop execution was exited and hence you do not see 1 in the output\n",
    "        print('executing break now:')\n",
    "        break\n",
    "    print(i)\n",
    "    list1.append(i)\n",
    "    \n",
    "print(list1)\n",
    "\n",
    "\n"
   ]
  },
  {
   "cell_type": "code",
   "execution_count": null,
   "id": "73928fdb",
   "metadata": {},
   "outputs": [],
   "source": [
    "## natural numbers 1,2,3,4... infinity\n",
    "## whole numbers 0,1,2,3,3... infinity\n",
    "\n",
    "num=int(input('enter number: '))\n",
    "\n",
    "num_whole=num\n",
    "print('''\n",
    "---------------\n",
    "natural numbers\n",
    "---------------\n",
    "''')\n",
    "\n",
    "sum_of=0\n",
    "list_of_numbers=[] #declaring a list to capture numbers\n",
    "\n",
    "#formulae to get the sum of natural numbers\n",
    "print('sum via formulae',int((num*(num+1))/2))\n",
    "\n",
    "#calculation via loop\n",
    "while num>=1:\n",
    "    list_of_numbers.append(num)\n",
    "    sum_of+=num\n",
    "    num-=1\n",
    "       \n",
    "list_of_numbers.reverse()  \n",
    "print('sum via while loop',sum_of, sep='-') \n",
    "print(list_of_numbers)\n",
    "\n",
    "\n",
    "\n",
    "print('''\n",
    "---------------\n",
    "whole numbers\n",
    "---------------\n",
    "''')\n",
    "\n",
    "\n",
    "sum_of_whole=0\n",
    "list_of_numbers_whole=[] #declaring a list to capture numbers\n",
    "\n",
    "#formulae to get the sum of whole numbers\n",
    "print('sum via formulae',int((num_whole*(num_whole+1))/2))\n",
    "\n",
    "#calculation via loop\n",
    "while num_whole>=0:\n",
    "    list_of_numbers_whole.append(num_whole)\n",
    "    sum_of_whole+=num_whole\n",
    "    num_whole-=1      \n",
    "list_of_numbers_whole.reverse()  \n",
    "print('sum via while loop',sum_of_whole) \n",
    "print(list_of_numbers_whole)\n"
   ]
  },
  {
   "cell_type": "code",
   "execution_count": null,
   "id": "6f5964a4",
   "metadata": {},
   "outputs": [],
   "source": [
    "## find factorial for a number\n",
    "n=5\n",
    "factorial=1\n",
    "while n:\n",
    "    factorial*=n\n",
    "    n-=1\n",
    "print(factorial)\n"
   ]
  },
  {
   "cell_type": "code",
   "execution_count": null,
   "id": "1c7a6812",
   "metadata": {},
   "outputs": [],
   "source": [
    "# Python Guessing Game\n",
    "# Ask the user to guess the year when Python 1.0 was released (the correct answer is 1994) with the following prompt:\n",
    "# When was Python 1.0 released? << remember to add a space at the end of this prompt\n",
    "# If the user answers 1994, show:\n",
    "# Correct!\n",
    "# and finish the program. If the user answers with any year that is later than 1994, show a hint and ask again for a new year on a new line:\n",
    "# It was earlier than that!\n",
    "# When was Python 1.0 released? << remember to add a space\n",
    "# If the user answers with any year that is earlier than 1994, show a hint and ask again for a new year on a new line:\n",
    "# It was later than that!\n",
    "# When was Python 1.0 released? << remember to add a space\n",
    "\n",
    "while True :\n",
    "    var= int(input('When was Python 1.0 released? '))\n",
    "    if var==1994 :\n",
    "        break\n",
    "    elif var>1994 :\n",
    "        print('It was earlier than that!')\n",
    "    elif var<1994 :\n",
    "        print('It was later than that!')\n",
    "\n",
    "print('Correct!')\n",
    "    "
   ]
  },
  {
   "cell_type": "code",
   "execution_count": null,
   "id": "7a7d0673",
   "metadata": {},
   "outputs": [],
   "source": []
  }
 ],
 "metadata": {
  "kernelspec": {
   "display_name": "Python 3 (ipykernel)",
   "language": "python",
   "name": "python3"
  },
  "language_info": {
   "codemirror_mode": {
    "name": "ipython",
    "version": 3
   },
   "file_extension": ".py",
   "mimetype": "text/x-python",
   "name": "python",
   "nbconvert_exporter": "python",
   "pygments_lexer": "ipython3",
   "version": "3.9.13"
  }
 },
 "nbformat": 4,
 "nbformat_minor": 5
}
