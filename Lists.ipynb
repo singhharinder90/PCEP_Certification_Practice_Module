{
 "cells": [
  {
   "cell_type": "markdown",
   "id": "3c8908db",
   "metadata": {},
   "source": [
    "# Lists"
   ]
  },
  {
   "cell_type": "code",
   "execution_count": null,
   "id": "62a71e7d",
   "metadata": {},
   "outputs": [],
   "source": [
    "# Helping with the Budget\n",
    "# John has a hard time keeping his budget. Write a program to help him analyse his spendings. \n",
    "#You are given a list with John's spendings for each month. Go through the list, and count the number of times...\n",
    "\n",
    "# a. the spendings were low (< 1000.0)\n",
    "# b. the spendings were normal (between 1000.0 and 2500.0 inclusive)\n",
    "# c. the spendings were high (> 2500.0)\n",
    "# Then, print the following to the output:\n",
    "\n",
    "# Numbers of months with low spendings: {}, normal spendings: {}, high spendings: {}.\n",
    "\n",
    "spendings = [1346.0, 987.50, 1734.40, 2567.0, 3271.45, 2500.0, 2130.0, 2510.30, 2987.34, 3120.50, 4069.78, 1000.0]\n",
    "\n",
    "spending_low=0\n",
    "spending_normal=0\n",
    "spending_high=0\n",
    "\n",
    "for i in spendings :\n",
    "        if i<1000.0 :\n",
    "            spending_low +=1\n",
    "        elif i>=1000.0 and i<=2500.0 :\n",
    "            spending_normal +=1\n",
    "        else :\n",
    "            spending_high += 1\n",
    "\n",
    "print('Numbers of months with low spendings:', str(spending_low)+',', 'normal spendings:',str(spending_normal)+',',\\\n",
    "      'high spendings:',spending_high,end='.')\n"
   ]
  },
  {
   "cell_type": "code",
   "execution_count": null,
   "id": "13623da6",
   "metadata": {},
   "outputs": [],
   "source": [
    "values = [[3 - x for x in range(2)] for y in range(5)]\n",
    "\n",
    "print(values)\n",
    "sum = 0.0\n",
    "for row in values:\n",
    "    #print(row)\n",
    "  for cell in row:\n",
    "    print(cell)\n",
    "    sum += cell\n",
    " \n",
    "print(sum)"
   ]
  },
  {
   "cell_type": "code",
   "execution_count": null,
   "id": "61179b10",
   "metadata": {},
   "outputs": [],
   "source": [
    "#swap elements of a list\n",
    "\n",
    "lst= [x for x in range(1,5)]\n",
    "print(lst)\n",
    "lst[1],lst[3]=lst[3],lst[1] # swap\n",
    "lst[1],lst[3],lst[2]=lst[3],lst[0],lst[3] #shuffling in order of choice\n",
    "print(lst)"
   ]
  },
  {
   "cell_type": "code",
   "execution_count": null,
   "id": "15ef2072",
   "metadata": {},
   "outputs": [],
   "source": [
    "# list.pop(index) removed the items from a specified index.\n",
    "\n",
    "list=[x for x in range(1,7)]\n",
    "print(list)\n",
    "list.pop(5) #removed the item at 5th index- indicies start from 0 in python lists\n",
    "print(list)\n",
    "\n",
    "## if no index is provied to pop method it by default takes -1 as index and pops out last element of the list."
   ]
  },
  {
   "cell_type": "code",
   "execution_count": null,
   "id": "1a6f3623",
   "metadata": {},
   "outputs": [],
   "source": [
    "#Clearing a list\n",
    "\n",
    "#using clear() method\n",
    "lst=[x for x in range(1,5)]\n",
    "lst.clear()\n",
    "print(lst)\n",
    "\n",
    "#using del list[:]\n",
    "lst=[x for x in range(1,5)]\n",
    "print(lst)\n",
    "del lst[:2] # delete based on the index provided  ':2' empty space before colon means starting from 0 index and until 2 but 2 is excluded.\n",
    "print(lst)\n",
    "del list[:] #completely deleted the list\n",
    "\n",
    "# assign empty value to a list\n",
    "lst=[x for x in range(1,5)]\n",
    "print(lst)\n",
    "lst=[]\n",
    "print(lst)"
   ]
  },
  {
   "cell_type": "code",
   "execution_count": 1,
   "id": "398a6230",
   "metadata": {},
   "outputs": [
    {
     "name": "stdout",
     "output_type": "stream",
     "text": [
      "['MARL', 'g']\n"
     ]
    }
   ],
   "source": [
    "#Get Rid of Duplicates!\n",
    "#Write a function named unique. The function should accept one parameter, which is a list with any number of elements inside. The default value for the parameter should be an empty list ([]).\n",
    "#The function should return a new list with all duplicate elements removed. The function should preserve the original order of elements.\n",
    "\n",
    "#Example 1: for unique([1, 1, 4, 5, 1]), the output should be [1, 4, 5]\n",
    "#Example 2: for unique(['Mark', 'Mark', 'John', 'Anne']), the output should be  ['Mark', 'John', 'Anne']\n",
    "\n",
    "\n",
    "def unique(list2f=[]):\n",
    "    #print('1',list2f)\n",
    "    listf=list2f\n",
    "    #print('2',listf)\n",
    "    lengt=len(listf)\n",
    "    #print('3',lengt)\n",
    "    while lengt>0 :\n",
    "         iter1=lengt-1 \n",
    "        # print('4',iter1)\n",
    "         element=lengt-1\n",
    "       #  print('5',element)   \n",
    "         if listf[element] in listf[0:iter1] :\n",
    "            listf.pop(element)\n",
    "         lengt-=1\n",
    "\n",
    "    return listf\n",
    "    \n",
    "lists=unique(['MARL','g','MARL'])\n",
    "print(lists)"
   ]
  },
  {
   "cell_type": "code",
   "execution_count": 2,
   "id": "7506dabf",
   "metadata": {},
   "outputs": [],
   "source": [
    "import sys"
   ]
  },
  {
   "cell_type": "code",
   "execution_count": null,
   "id": "ba60697b",
   "metadata": {},
   "outputs": [],
   "source": []
  }
 ],
 "metadata": {
  "kernelspec": {
   "display_name": "Python 3 (ipykernel)",
   "language": "python",
   "name": "python3"
  },
  "language_info": {
   "codemirror_mode": {
    "name": "ipython",
    "version": 3
   },
   "file_extension": ".py",
   "mimetype": "text/x-python",
   "name": "python",
   "nbconvert_exporter": "python",
   "pygments_lexer": "ipython3",
   "version": "3.9.13"
  }
 },
 "nbformat": 4,
 "nbformat_minor": 5
}
