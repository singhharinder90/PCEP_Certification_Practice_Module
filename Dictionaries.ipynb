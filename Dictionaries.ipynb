{
 "cells": [
  {
   "cell_type": "code",
   "execution_count": 8,
   "id": "67490f59",
   "metadata": {},
   "outputs": [
    {
     "name": "stdout",
     "output_type": "stream",
     "text": [
      "Enter a word in English or EXIT: nose\n",
      "Translation: Nase\n",
      "Enter a word in English or EXIT: EXIT\n",
      "Bye!\n"
     ]
    }
   ],
   "source": [
    "\n",
    "# Interactive Dictionary\n",
    "# Write a program that implements a simple interactive dictionary. Start by prompting the user with the following:\n",
    "# Enter a word in English or EXIT: << put a space at the end of this message\n",
    "\n",
    "# When the user enters EXIT in capital letters, terminate the program with the following:\n",
    "\n",
    "# Bye!\n",
    "\n",
    "# Otherwise, try to find the German equivalent in the dictionary provided in the exercise.\n",
    "\n",
    "# a. if the word is in the dictionary, print: Translation: {} << replace {} with the word from the dictionary\n",
    "# b. if the word is not in the dictionary, print: No match!\n",
    "\n",
    "# You should keep asking the user for new words with the same prompt ('Enter a word in English or EXIT: ')\n",
    "#until the user provides EXIT.\n",
    "\n",
    "# Here's an example of how the program could work with user input shown in the bold:\n",
    "\n",
    "# Enter a word in English or EXIT: dog\n",
    "# No match!\n",
    "# Enter a word in English or EXIT: face\n",
    "# Translation: Gesicht\n",
    "# Enter a word in English or EXIT: EXIT\n",
    "# Bye!\n",
    "\n",
    "sample_dict = {\n",
    "    \"mouth\": \"Mund\",\n",
    "    \"finger\": \"Finger\",\n",
    "    \"leg\": \"Bein\",\n",
    "    \"hand\": \"Hand\",\n",
    "    \"face\": \"Gesicht\",\n",
    "    \"nose\": \"Nase\"\n",
    "}\n",
    "\n",
    "while True :\n",
    "    word=input('Enter a word in English or EXIT: ')\n",
    "    if word=='EXIT' :\n",
    "        break\n",
    "    if word in sample_dict :\n",
    "        print('Translation:',sample_dict[word])\n",
    "    else :      \n",
    "        print('No match!')\n",
    "    \n",
    "print('Bye!')\n",
    "        \n",
    "\n"
   ]
  },
  {
   "cell_type": "code",
   "execution_count": null,
   "id": "d1ccf24e",
   "metadata": {},
   "outputs": [],
   "source": []
  },
  {
   "cell_type": "code",
   "execution_count": null,
   "id": "078954bd",
   "metadata": {},
   "outputs": [],
   "source": []
  }
 ],
 "metadata": {
  "kernelspec": {
   "display_name": "Python 3 (ipykernel)",
   "language": "python",
   "name": "python3"
  },
  "language_info": {
   "codemirror_mode": {
    "name": "ipython",
    "version": 3
   },
   "file_extension": ".py",
   "mimetype": "text/x-python",
   "name": "python",
   "nbconvert_exporter": "python",
   "pygments_lexer": "ipython3",
   "version": "3.9.13"
  }
 },
 "nbformat": 4,
 "nbformat_minor": 5
}
