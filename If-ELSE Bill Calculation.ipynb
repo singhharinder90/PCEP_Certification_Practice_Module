{
 "cells": [
  {
   "cell_type": "code",
   "execution_count": null,
   "id": "833d86ff",
   "metadata": {},
   "outputs": [],
   "source": [
    "#Calculate bill based on mileage\n",
    "\n",
    "kilometers_travelled=int(input('Enter KM :'))\n",
    "if kilometers_travelled<=10 :\n",
    "    print('Bill is- $',kilometers_travelled*11, sep='' )\n",
    "elif kilometers_travelled>10 and kilometers_travelled<=100 :\n",
    "    bill_first_10=10*11\n",
    "    bill_next_90=(kilometers_travelled-10)*10\n",
    "    print('Bill is- $',bill_first_10+bill_next_90, sep='')\n",
    "else :\n",
    "    bill_first_10=10*11\n",
    "    bill_next_90=90*10\n",
    "    bill_after_that=(kilometers_travelled-100)*9\n",
    "    print('Bill is- $',bill_first_10+bill_next_90+bill_after_that, sep='')\n",
    "    "
   ]
  },
  {
   "cell_type": "code",
   "execution_count": null,
   "id": "eb131bd5",
   "metadata": {},
   "outputs": [],
   "source": [
    "i=0\n",
    "n=0\n",
    "while i<11 :\n",
    "    if n/2==0.0 :\n",
    "        print(n/2)\n",
    "        i=i+1\n",
    "    n=n+1\n"
   ]
  },
  {
   "cell_type": "code",
   "execution_count": null,
   "id": "d00c61a8",
   "metadata": {},
   "outputs": [],
   "source": [
    "def unique(list2f=[]):\n",
    "    print('1',list2f)\n",
    "    listf=list2f\n",
    "    print('2',listf)\n",
    "    length=len(listf)\n",
    "    print('3',length)\n",
    "    while length>0 :\n",
    "         iter1=length-2 \n",
    "         element=length-1\n",
    "         if listf[element] in listf[0:iter1] :\n",
    "            lisf.pop[element]\n",
    "        \n",
    "         length-=0\n",
    "\n",
    "    return listf\n",
    "    \n",
    "lists=unique(['a','a','aa','c'])\n",
    "print('df')"
   ]
  },
  {
   "cell_type": "code",
   "execution_count": null,
   "id": "689b3fb7",
   "metadata": {},
   "outputs": [],
   "source": []
  },
  {
   "cell_type": "code",
   "execution_count": null,
   "id": "108584de",
   "metadata": {},
   "outputs": [],
   "source": []
  }
 ],
 "metadata": {
  "kernelspec": {
   "display_name": "Python 3 (ipykernel)",
   "language": "python",
   "name": "python3"
  },
  "language_info": {
   "codemirror_mode": {
    "name": "ipython",
    "version": 3
   },
   "file_extension": ".py",
   "mimetype": "text/x-python",
   "name": "python",
   "nbconvert_exporter": "python",
   "pygments_lexer": "ipython3",
   "version": "3.9.13"
  }
 },
 "nbformat": 4,
 "nbformat_minor": 5
}
