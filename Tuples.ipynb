{
 "cells": [
  {
   "cell_type": "code",
   "execution_count": 13,
   "id": "c29a11cc",
   "metadata": {},
   "outputs": [
    {
     "name": "stdout",
     "output_type": "stream",
     "text": [
      "I'm learning to become a Python\n",
      "developer!\n",
      "I'm so excited!\n"
     ]
    }
   ],
   "source": [
    "print('I\\'m learning to become a Python\\ndeveloper!\\nI\\'m so excited!')"
   ]
  },
  {
   "cell_type": "code",
   "execution_count": 10,
   "id": "7df4bdbe",
   "metadata": {},
   "outputs": [
    {
     "name": "stdout",
     "output_type": "stream",
     "text": [
      "5 connections lead to Rome with an average flight time of 161.0 minutes\n",
      "5 connections lead to Rome with an average flight time of 161.0 minutes\n"
     ]
    }
   ],
   "source": [
    "# All Roads Lead to Rome\n",
    "# You are given a list with various flight connections in Europe. \n",
    "#Each connection is represented as a tuple with the following elements:\n",
    "\n",
    "# (city_from, city_to, time)\n",
    "\n",
    "# For example, the following tuple represents a flight from Amsterdam to Dublin which takes 100 minutes:\n",
    "\n",
    "# ('Amsterdam', 'Dublin', 100)\n",
    "\n",
    "# Your task is to go through all the routes in a loop and check how many of them lead to Rome\n",
    "#(i.e. how many of them have city_to equal to 'Rome'). \n",
    "#Among the routes to Rome, you should also calculate the average flight time. Print the following the output:\n",
    "\n",
    "# {} connections lead to Rome with an average flight time of {} minutes\n",
    "\n",
    "# Replace {} with the number of connections and the average flight time.\n",
    "\n",
    "connections = [\n",
    "    ('Amsterdam', 'Dublin', 100),\n",
    "    ('Amsterdam', 'Rome', 140),\n",
    "    ('Rome', 'Warsaw', 130),\n",
    "    ('Minsk', 'Prague', 95),\n",
    "    ('Stockholm', 'Rome', 190),\n",
    "    ('Copenhagen', 'Paris', 120),\n",
    "    ('Madrid', 'Rome', 135),\n",
    "    ('Lisbon', 'Rome', 170),\n",
    "    ('Dublin', 'Rome', 170),\n",
    "    ]\n",
    "\n",
    "totaltime=0\n",
    "connection_count=0\n",
    "\n",
    "for connectiontoRome in connections :\n",
    "         if connectiontoRome[1]=='Rome' :\n",
    "            totaltime += connectiontoRome[2]\n",
    "            connection_count += 1\n",
    "        \n",
    "print(connection_count,'connections lead to Rome with an average flight time of',totaltime/connection_count,'minutes')\n",
    "\n",
    "print(connection_count, 'connections lead to Rome with an average flight time of', totaltime/connection_count, 'minutes')"
   ]
  },
  {
   "cell_type": "code",
   "execution_count": null,
   "id": "5527275c",
   "metadata": {},
   "outputs": [],
   "source": [
    "5 connections lead to Rome with an average flight time of 161.0 minutes"
   ]
  }
 ],
 "metadata": {
  "kernelspec": {
   "display_name": "Python 3 (ipykernel)",
   "language": "python",
   "name": "python3"
  },
  "language_info": {
   "codemirror_mode": {
    "name": "ipython",
    "version": 3
   },
   "file_extension": ".py",
   "mimetype": "text/x-python",
   "name": "python",
   "nbconvert_exporter": "python",
   "pygments_lexer": "ipython3",
   "version": "3.9.13"
  }
 },
 "nbformat": 4,
 "nbformat_minor": 5
}
