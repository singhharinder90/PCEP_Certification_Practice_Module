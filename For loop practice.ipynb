{
 "cells": [
  {
   "cell_type": "markdown",
   "id": "a89426ec",
   "metadata": {},
   "source": [
    "# For loop practice"
   ]
  },
  {
   "cell_type": "code",
   "execution_count": null,
   "id": "75bf0ec4",
   "metadata": {},
   "outputs": [],
   "source": [
    "x= int(input('Enter the number of evens you want'))\n",
    "i=0\n",
    "for (i in range (0,x))\n",
    "    if i%2==0\n",
    "        print(i)\n",
    "    "
   ]
  },
  {
   "cell_type": "code",
   "execution_count": 4,
   "id": "c1f4361d",
   "metadata": {},
   "outputs": [
    {
     "name": "stdout",
     "output_type": "stream",
     "text": [
      "4\n",
      "2\n",
      "1\n",
      "0\n",
      "[4, 2, 1, 0]\n"
     ]
    }
   ],
   "source": []
  },
  {
   "cell_type": "code",
   "execution_count": null,
   "id": "9015766c",
   "metadata": {},
   "outputs": [],
   "source": []
  }
 ],
 "metadata": {
  "kernelspec": {
   "display_name": "Python 3 (ipykernel)",
   "language": "python",
   "name": "python3"
  },
  "language_info": {
   "codemirror_mode": {
    "name": "ipython",
    "version": 3
   },
   "file_extension": ".py",
   "mimetype": "text/x-python",
   "name": "python",
   "nbconvert_exporter": "python",
   "pygments_lexer": "ipython3",
   "version": "3.9.13"
  }
 },
 "nbformat": 4,
 "nbformat_minor": 5
}
